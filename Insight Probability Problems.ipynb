{
 "cells": [
  {
   "cell_type": "markdown",
   "metadata": {},
   "source": [
    "# Probability Problems"
   ]
  },
  {
   "cell_type": "markdown",
   "metadata": {},
   "source": [
    "## A short discussion of \\# 1 from the exercies from Peter Komar\n",
    "\n",
    "The probability of rain on Saturday and Sunday are 50% and 20%, respectively. Any rain will be light\n",
    "with 90%, and heavy with 10% probability on Saturday. Any rain on Sunday will be light.\n",
    "\n",
    "Q1: What is the probability of light rain on both days?\n",
    "\n",
    "Q2: What is the probability of raining during the weekend?\n",
    "\n"
   ]
  },
  {
   "cell_type": "markdown",
   "metadata": {},
   "source": [
    "P(rain) = 1- P(no rain) = 1 - P(no rain sat)* P(no rain on sun) = 0.6\n",
    "\n",
    "P(rain) = P(rain on sat U rain on Sun) = P(rain on sat) + P(rain on Sun) - P(rain sat)*P(rain sun)\n"
   ]
  },
  {
   "cell_type": "markdown",
   "metadata": {},
   "source": [
    "## Inference and probability problems.\n",
    "\n",
    "1. A student is taking a one-hour-time-limit makeup examination.  Suppose the probability that the student will finish the exam in less than x hours is x/2, for all 0<= x<= 1.  Given that the student is still working after .75 hours, what is the conditional probability that the full hour is used? "
   ]
  },
  {
   "cell_type": "markdown",
   "metadata": {},
   "source": [
    "**Solution**\n",
    "\n",
    "Reminder of Bayes anda another useful formula:\n",
    "$P(A|B) = \\frac{P(B|A)P(A)}{P(B)} = \\frac{P(AB)}{P(B)}$  where $AB = A \\cap B$, so both events happen. \n",
    "\n",
    "$L_x = $ event they finish in less than x hours.  $P(L_x) = x/2$\n",
    "\n",
    "$P(L_1^c) = 1-P(L_1)$  This IS USEFUL.\n",
    "\n",
    "$L_1^c$  and $L_.75^c  = L_1^c$\n",
    "\n",
    "$P(L_1^c | L_.75^c) = \\frac{P(L_1^c and L_.75^c)}{P(L_.75^c)} = \\frac{P(L_1^c)}{P(L_.75^c)} = \\frac{(1/2)}{(1-.75/2)} = 0.8$\n",
    "\n",
    "Logic --- (this was a discussion about definitions vs. arguing Bayes' theorem --- helpful for remembering stuff and finding the right way to think about problems).  \n",
    "\n",
    "Definition of conditional probability is $P(A|B) = \\frac{P(AB)}{P(B)}$\n",
    "\n",
    "Therefore $P(B|A) = \\frac{P(AB}{P(A) }$\n",
    "\n",
    "Rearrange to get JF's equation:  $P(A|B)P(B) = P(AB) = P(B|A)P(A) $\n",
    "\n",
    "And thus you can rearrange to get Bayes' Theorem.  \n",
    "\n",
    "Independence is $P(B|A) = P(B) $\n",
    "Which can also be written, again using stuff above, $P(AB) = P(A)P(B)$"
   ]
  },
  {
   "cell_type": "markdown",
   "metadata": {},
   "source": [
    "2.An insurance company believes that people can be divided into two classes:  those who are accident prone and those who are not.  Their statistics show that an accident-prone person will have an accident at some time within a fixed 1-year period with probability 0.4, whereas this probability decreases to 0.2 for a non-accident-prone person.  If we assume that 30 percent of the population is accident prone, what is the probability that a new policyholder will have an accident within a year of purchasing a policy?  As a follow-up, suppose that a new policyholder has an accident within a year of purchasing a policy.  What is the probability she is accident prone?"
   ]
  },
  {
   "cell_type": "markdown",
   "metadata": {},
   "source": [
    "**Solution**\n",
    "\n",
    "A = event of accident.\n",
    "P = event accident prone.\n",
    "\n",
    "Part 1\n",
    "$P(A) = P(A|P)P(P) + P(A|P^c)P(P^c) = 0.26$\n",
    "\n",
    "Part 2\n",
    "$P(P|A) = P(A|P)*P(P)/P(A) = (0.4)*(0.3)/(0.26) = 0.46$\n"
   ]
  },
  {
   "cell_type": "markdown",
   "metadata": {},
   "source": [
    "3.There are three types of coins which have different probabilities of landing\n",
    "heads when tossed.\n",
    "\n",
    " * Type A coins are fair, with probability .5 of heads\n",
    " * Type B coins are bent and have probability .6 of heads\n",
    " * Type C coins are bent and have probability .9 of heads\n",
    "\n",
    "Suppose I have a drawer containing 4 coins: 2 of type A, 1 of type B, and 1 of type C. I\n",
    "reach into the drawer and pick a coin at random. Without showing you the coin I flip it\n",
    "once and get heads. What is the probability it is type A? Type B? Type C?"
   ]
  },
  {
   "cell_type": "markdown",
   "metadata": {},
   "source": [
    "**Solution**\n",
    "\n",
    "Write your solution in terms of models, data and priors, liklihood and posteriors.\n",
    "\n",
    "Models are the 3 coins, so three models: A, B, and C\n",
    "\n",
    "Data  are that we saw a head.  \n",
    "\n",
    "Priors  P(Models)  \n",
    "P(A) = .5\n",
    "P(B) = .25\n",
    "P(C) = .25\n",
    "\n",
    "\n",
    "likelihoods P(data | model) or P(data | hypothesis)\n",
    "\n",
    "Non-normalized posterior = P(data | model) P(model)\n",
    "\n",
    "Posteriors  P(Model | Data) = P(hypothesis | data)\n",
    "P(A|H) = 0.4\n",
    "P(B|H) = 0.24\n",
    "P(C|H) = 0.36"
   ]
  },
  {
   "cell_type": "markdown",
   "metadata": {},
   "source": [
    "## Expected value problems\n",
    "\n",
    "1) There are 2 coins in a bin.  When one of them is flipped it lands on heads with probability 0.6, and when the other coin is flipped it lands on heads with probability 0.3.  One of these coins is chosen radomly and then flipped.  Without knowing which coin is chosen, you can bet any amount up to 10 dollars and then you either win that amount if the coin comes up heads or lose it if it comes up tails.  Suppose however, that an insider is willing to sell you, for an amount C, the information as to which coin was selected.  What is your expected payoff if you buy this information?"
   ]
  },
  {
   "cell_type": "markdown",
   "metadata": {},
   "source": [
    "**Solution**\n",
    "\n",
    "Game given --- P(Heads with no information) = $(0.6)*(0.5) + (0.3)(0.5) = 0.45$\n",
    "E[no info, if I bet x] = $(0.45)*x + (1-0.45)(-x)$\n",
    "\n",
    "If win with probability p, lose probability 1-p and I bet x dollars my expected winnings are \n",
    "E[winnings] = $p*x-(1-p)*x = (2p-1)*x$\n",
    "\n",
    "Key insight!! If $p < 1/2$ I should bet 0  if $p > 1/2$ I should bet 10 and if $p = 1/2$ it really doesn't matter. \n",
    "\n",
    "Expected winnings when we pay out for knowledge = $(1/2)(2(.6)-1)*10 + (1/2)*0 - C  = 1 - C$  \n",
    "\n",
    "A nice reference for this, and generally thinking about Bayesian model selection that is pretty accessible for language is:  http://ocw.mit.edu/courses/mathematics/18-05-introduction-to-probability-and-statistics-spring-2014/readings/MIT18_05S14_Reading11.pdf"
   ]
  },
  {
   "cell_type": "markdown",
   "metadata": {},
   "source": [
    "2) At the end of basketball practice, a team’s best free throw shooter (80%) steps to\n",
    "the line. If she makes the free throw, practice is over. If, on the other hand, she\n",
    "misses, the entire team must run a “killer”, the player tries to shoot another free\n",
    "throw, and the process is repeated until she finally makes a free throw. What are\n",
    "the expected number of “killers” the team will run? What assumptions are being\n",
    "made?"
   ]
  },
  {
   "cell_type": "markdown",
   "metadata": {
    "collapsed": true
   },
   "source": [
    "**Solution**\n",
    "\n",
    "Some event happens with probability p.  If the event happens we stop, if not there is a consequence and we have to do the experiment again.  \n",
    "\n",
    "expected number of times the event happens --- If A is the expected number of times the event happens then \n",
    "\n",
    "$A = (A+1)(1-p) + 1*p$\n",
    "\n",
    "But since there is no consequence if we get the event on the first try, and this question is about the consequences, not the event itself, the equation becomes\n",
    "\n",
    "$A = (A+1)(1-p) + 0*p$\n",
    "\n",
    "For this problem the answer is 1/4.  \n",
    "\n",
    "A good reference for the first equations is:  https://www.cs.cornell.edu/~ginsparg/physics/info295/mh.pdf\n"
   ]
  }
 ],
 "metadata": {
  "kernelspec": {
   "display_name": "Python 2",
   "language": "python",
   "name": "python2"
  },
  "language_info": {
   "codemirror_mode": {
    "name": "ipython",
    "version": 2
   },
   "file_extension": ".py",
   "mimetype": "text/x-python",
   "name": "python",
   "nbconvert_exporter": "python",
   "pygments_lexer": "ipython2",
   "version": "2.7.11"
  }
 },
 "nbformat": 4,
 "nbformat_minor": 0
}
