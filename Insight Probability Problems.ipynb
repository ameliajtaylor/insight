{
 "cells": [
  {
   "cell_type": "markdown",
   "metadata": {},
   "source": [
    "# Probability Problems"
   ]
  },
  {
   "cell_type": "markdown",
   "metadata": {},
   "source": [
    "## A short discussion of \\# 1 from the exercies from Peter Komar\n",
    "\n",
    "The probability of rain on Saturday and Sunday are 50% and 20%, respectively. Any rain will be light\n",
    "with 90%, and heavy with 10% probability on Saturday. Any rain on Sunday will be light.\n",
    "\n",
    "Q1: What is the probability of light rain on both days?\n",
    "\n",
    "Q2: What is the probability of raining during the weekend?\n",
    "\n"
   ]
  },
  {
   "cell_type": "markdown",
   "metadata": {},
   "source": [
    "## Inference and probability problems.\n",
    "\n",
    "1. A student is taking a one-hour-time-limit makeup examination.  Suppose the probability that the student will finish the exam in less than x hours is x/2, for all 0<= x<= 1.  Fiven that the student is still working after .75 hours, what is the conditional probability that the full hour is used? \n",
    "\n",
    "2. An insurance company believes that people can be divided into two classes:  those who are accident prone and those who are not.  Their statistics show that an accident-prone person will have an accident at some time within a fixed 1-yar period with probability 0.4, whereas this probability decreases to 0.2 for a non-accident-prone person.  If we assume that 30 percent of the population is accident prone, what is the probability that a new policyholder will have an accident within a year of purchasing a policy?  As a follow-up, suppose that a new policyholder has an accident within ayear of purchasing a policy.  What is the probability she is accident prone?\n",
    "\n",
    "3.There are three types of coins which have different probabilities of landing\n",
    "heads when tossed.\n",
    "\n",
    " * Type A coins are fair, with probability .5 of heads\n",
    " * Type B coins are bent and have probability .6 of heads\n",
    " * Type C coins are bent and have probability .9 of heads\n",
    "\n",
    "Suppose I have a drawer containing 4 coins: 2 of type A, 1 of type B, and 1 of type C. I\n",
    "reach into the drawer and pick a coin at random. Without showing you the coin I flip it\n",
    "once and get heads. What is the probability it is type A? Type B? Type C?"
   ]
  },
  {
   "cell_type": "markdown",
   "metadata": {},
   "source": [
    "## Expected value problems\n",
    "\n",
    "1. There are 2 coins in a bin.  When one of them is flipped it lands on heads with probability 0.6, and when the other coin is flipped it lands on heads with probability 0.3.  One of these coise is chosen radomly and then flipped.  Without knowing which coin is chosen, you can bet any amount up to 10 dollars and then you either win that amount if teh coin comes up heads aor lose it if it comes up tails.  Suppose however, that an insider is willing to selly ou, for an amount C, the information as to whihc coin was selected.  What is your expected payoff if you buy this information?\n",
    "\n",
    "2. At the end of basketball practice, a team’s best free throw shooter (80%) steps to\n",
    "the line. If she makes the free throw, practice is over. If, on the other hand, she\n",
    "misses, the entire team must run a “killer”, the player tries to shoot another free\n",
    "throw, and the process is repeated until she finally makes a free throw. What are\n",
    "the expected number of “killers” the team will run? What assumptions are being\n",
    "made?"
   ]
  },
  {
   "cell_type": "code",
   "execution_count": null,
   "metadata": {
    "collapsed": true
   },
   "outputs": [],
   "source": []
  }
 ],
 "metadata": {
  "kernelspec": {
   "display_name": "Python 2",
   "language": "python",
   "name": "python2"
  },
  "language_info": {
   "codemirror_mode": {
    "name": "ipython",
    "version": 2
   },
   "file_extension": ".py",
   "mimetype": "text/x-python",
   "name": "python",
   "nbconvert_exporter": "python",
   "pygments_lexer": "ipython2",
   "version": "2.7.11"
  }
 },
 "nbformat": 4,
 "nbformat_minor": 0
}
